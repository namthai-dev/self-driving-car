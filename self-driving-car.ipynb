{
 "cells": [
  {
   "cell_type": "code",
   "execution_count": 4,
   "metadata": {},
   "outputs": [],
   "source": [
    "import pandas as pd\n",
    "import numpy as np\n",
    "import os\n",
    "import matplotlib.pyplot as plt\n",
    "\n",
    "from sklearn.model_selection import train_test_split\n",
    "\n",
    "from keras.models import Sequential \n",
    "from keras.optimizers import Adam\n",
    "from keras.callbacks import ModelCheckpoint\n",
    "from keras.layers import Lambda, Conv2D, Dropout, Dense, Flatten\n",
    "from keras.regularizers import l2\n",
    "\n",
    "from utils import INPUT_SHAPE, batch_generator"
   ]
  },
  {
   "cell_type": "code",
   "execution_count": 5,
   "metadata": {},
   "outputs": [
    {
     "data": {
      "text/plain": [
       "(array([   7.,   15.,   50.,  121.,   94., 1240.,   19.,    6.,    4.,\n",
       "           6.]),\n",
       " array([-1. , -0.8, -0.6, -0.4, -0.2,  0. ,  0.2,  0.4,  0.6,  0.8,  1. ]),\n",
       " <BarContainer object of 10 artists>)"
      ]
     },
     "execution_count": 5,
     "metadata": {},
     "output_type": "execute_result"
    },
    {
     "data": {
      "image/png": "[encoded data removed]",
      "text/plain": [
       "<Figure size 640x480 with 1 Axes>"
      ]
     },
     "metadata": {},
     "output_type": "display_data"
    }
   ],
   "source": [
    "# Data dir\n",
    "data_dir = 'dataset'\n",
    "# Read file driving_log.csv with columns\n",
    "data_df = pd.read_csv(os.path.join(os.getcwd(), data_dir, 'driving_log.csv'), names=['center', 'left', 'right', 'steering', 'throttle', 'reverse', 'speed'])\n",
    "\n",
    "# Get path for left, right, center camera\n",
    "X = data_df[['center', 'left', 'right']].values\n",
    "# Get steering angle\n",
    "y = data_df['steering'].values\n",
    "\n",
    "# Draw histogram\n",
    "plt.hist(y)"
   ]
  },
  {
   "cell_type": "code",
   "execution_count": 6,
   "metadata": {},
   "outputs": [
    {
     "data": {
      "text/plain": [
       "(array([   7.,   15.,   50.,  121.,   94., 1025.,   19.,    6.,    4.,\n",
       "           6.]),\n",
       " array([-1. , -0.8, -0.6, -0.4, -0.2,  0. ,  0.2,  0.4,  0.6,  0.8,  1. ]),\n",
       " <BarContainer object of 10 artists>)"
      ]
     },
     "execution_count": 6,
     "metadata": {},
     "output_type": "execute_result"
    },
    {
     "data": {
      "image/png": "[encoded data removed]",
      "text/plain": [
       "<Figure size 640x480 with 1 Axes>"
      ]
     },
     "metadata": {},
     "output_type": "display_data"
    }
   ],
   "source": [
    "# Remove and get only 1000 data in left at 0\n",
    "pos_zero = np.array(np.where(y==0)).reshape(-1, 1)\n",
    "pos_none_zero = np.array(np.where(y!=0)).reshape(-1, 1)\n",
    "np.random.shuffle(pos_zero)\n",
    "pos_zero = pos_zero[:1000]\n",
    "\n",
    "pos_combined = np.vstack((pos_zero, pos_none_zero))\n",
    "pos_combined = list(pos_combined)\n",
    "\n",
    "y = y[pos_combined].reshape(len(pos_combined))\n",
    "X = X[pos_combined, :].reshape((len(pos_combined), 3))\n",
    "\n",
    "# After process\n",
    "plt.hist(y)"
   ]
  },
  {
   "cell_type": "code",
   "execution_count": 7,
   "metadata": {},
   "outputs": [],
   "source": [
    "# Separate traing set and validation set\n",
    "X_train, X_valid, y_train, y_valid = train_test_split(X, y, test_size=0.2, random_state=0)"
   ]
  },
  {
   "cell_type": "code",
   "execution_count": 16,
   "metadata": {},
   "outputs": [
    {
     "name": "stdout",
     "output_type": "stream",
     "text": [
      "Model: \"sequential_8\"\n",
      "_________________________________________________________________\n",
      " Layer (type)                Output Shape              Param #   \n",
      "=================================================================\n",
      " lambda_6 (Lambda)           (None, 66, 200, 3)        0         \n",
      "                                                                 \n",
      " conv2d_1 (Conv2D)           (None, 31, 98, 24)        1824      \n",
      "                                                                 \n",
      " conv2d_2 (Conv2D)           (None, 14, 47, 36)        21636     \n",
      "                                                                 \n",
      " conv2d_3 (Conv2D)           (None, 5, 22, 48)         43248     \n",
      "                                                                 \n",
      " conv2d_4 (Conv2D)           (None, 3, 20, 64)         27712     \n",
      "                                                                 \n",
      " conv2d_5 (Conv2D)           (None, 1, 18, 64)         36928     \n",
      "                                                                 \n",
      " dropout (Dropout)           (None, 1, 18, 64)         0         \n",
      "                                                                 \n",
      " flatten (Flatten)           (None, 1152)              0         \n",
      "                                                                 \n",
      " dense (Dense)               (None, 100)               115300    \n",
      "                                                                 \n",
      " dropout_1 (Dropout)         (None, 100)               0         \n",
      "                                                                 \n",
      " dense_1 (Dense)             (None, 50)                5050      \n",
      "                                                                 \n",
      " dense_2 (Dense)             (None, 10)                510       \n",
      "                                                                 \n",
      " dense_3 (Dense)             (None, 1)                 11        \n",
      "                                                                 \n",
      "=================================================================\n",
      "Total params: 252,219\n",
      "Trainable params: 252,219\n",
      "Non-trainable params: 0\n",
      "_________________________________________________________________\n"
     ]
    }
   ],
   "source": [
    "# Build model\n",
    "model = Sequential()\n",
    "model.add(Lambda(lambda x: x/127.5-1.0, input_shape=INPUT_SHAPE))\n",
    "model.add(Conv2D(24, (5, 5), activation='elu', strides=(2, 2)))\n",
    "model.add(Conv2D(36, (5, 5), activation='elu', strides=(2, 2)))\n",
    "model.add(Conv2D(48, (5, 5), activation='elu', strides=(2, 2)))\n",
    "model.add(Conv2D(64, (3, 3), activation='elu'))\n",
    "model.add(Conv2D(64, (3, 3), activation='elu'))\n",
    "model.add(Dropout(0.5))\n",
    "model.add(Flatten())\n",
    "model.add(Dense(100, activation='elu'))\n",
    "model.add(Dropout(0.5))\n",
    "model.add(Dense(50, activation='elu'))\n",
    "model.add(Dense(10, activation='elu'))\n",
    "model.add(Dense(1))\n",
    "model.summary()"
   ]
  },
  {
   "cell_type": "code",
   "execution_count": 19,
   "metadata": {},
   "outputs": [
    {
     "name": "stdout",
     "output_type": "stream",
     "text": [
      "Epoch 1/10\n"
     ]
    },
    {
     "name": "stderr",
     "output_type": "stream",
     "text": [
      "/home/namthai/miniconda3/envs/self-driving-car/lib/python3.11/site-packages/keras/optimizers/legacy/adam.py:117: UserWarning: The `lr` argument is deprecated, use `learning_rate` instead.\n",
      "  super().__init__(name, **kwargs)\n",
      "/tmp/ipykernel_14624/1326647012.py:18: UserWarning: `Model.fit_generator` is deprecated and will be removed in a future version. Please use `Model.fit`, which supports generators.\n",
      "  H = model.fit_generator(batch_generator(data_dir, X_train, y_train, batch_size, True),\n",
      "2023-05-22 01:19:29.025862: I tensorflow/core/common_runtime/executor.cc:1197] [/device:CPU:0] (DEBUG INFO) Executor start aborting (this does not indicate an error and you can ignore this message): INVALID_ARGUMENT: You must feed a value for placeholder tensor 'Placeholder/_0' with dtype int32\n",
      "\t [[{{node Placeholder/_0}}]]\n"
     ]
    },
    {
     "name": "stdout",
     "output_type": "stream",
     "text": [
      "1000/1000 [==============================] - ETA: 0s - loss: 0.0541"
     ]
    },
    {
     "name": "stderr",
     "output_type": "stream",
     "text": [
      "2023-05-22 01:21:03.589116: I tensorflow/core/common_runtime/executor.cc:1197] [/device:CPU:0] (DEBUG INFO) Executor start aborting (this does not indicate an error and you can ignore this message): INVALID_ARGUMENT: You must feed a value for placeholder tensor 'Placeholder/_0' with dtype int32\n",
      "\t [[{{node Placeholder/_0}}]]\n"
     ]
    },
    {
     "name": "stdout",
     "output_type": "stream",
     "text": [
      "1000/1000 [==============================] - 103s 103ms/step - loss: 0.0541 - val_loss: 0.0268\n",
      "Epoch 2/10\n",
      "1000/1000 [==============================] - 100s 100ms/step - loss: 0.0403 - val_loss: 0.0272\n",
      "Epoch 3/10\n",
      "1000/1000 [==============================] - 97s 97ms/step - loss: 0.0385 - val_loss: 0.0265\n",
      "Epoch 4/10\n",
      "1000/1000 [==============================] - 97s 97ms/step - loss: 0.0365 - val_loss: 0.0285\n",
      "Epoch 5/10\n",
      "1000/1000 [==============================] - 97s 97ms/step - loss: 0.0344 - val_loss: 0.0286\n",
      "Epoch 6/10\n",
      "1000/1000 [==============================] - 97s 97ms/step - loss: 0.0320 - val_loss: 0.0290\n",
      "Epoch 7/10\n",
      "1000/1000 [==============================] - 97s 97ms/step - loss: 0.0311 - val_loss: 0.0281\n",
      "Epoch 8/10\n",
      "1000/1000 [==============================] - 96s 96ms/step - loss: 0.0310 - val_loss: 0.0269\n",
      "Epoch 9/10\n",
      "1000/1000 [==============================] - 97s 97ms/step - loss: 0.0288 - val_loss: 0.0264\n",
      "Epoch 10/10\n",
      "1000/1000 [==============================] - 99s 99ms/step - loss: 0.0297 - val_loss: 0.0296\n"
     ]
    }
   ],
   "source": [
    "nb_epoch = 10\n",
    "samples_per_epoch = 1000\n",
    "batch_size = 32\n",
    "save_best_only = True\n",
    "learning_rate = 1e-4\n",
    "\n",
    "# Checkpoint to save model when validation loss is minimize\n",
    "checkpoint = ModelCheckpoint('models/model-{epoch:03d}.h5',\n",
    "                                 monitor='val_loss',\n",
    "                                 verbose=0,\n",
    "                                 save_best_only=save_best_only,\n",
    "                                 mode='auto')\n",
    "\n",
    "# Use mean_squrared_error as loss function\n",
    "model.compile(loss='mean_squared_error', optimizer=Adam(lr=learning_rate))\n",
    "\n",
    "# Train model\n",
    "H = model.fit_generator(batch_generator(data_dir, X_train, y_train, batch_size, True),\n",
    "                    steps_per_epoch = samples_per_epoch,\n",
    "                    epochs = nb_epoch,\n",
    "                    max_queue_size=1,\n",
    "                    validation_data=batch_generator(data_dir, X_valid, y_valid, batch_size, False),\n",
    "                    validation_steps=len(X_valid),\n",
    "                    callbacks=[checkpoint],\n",
    "                    verbose=1)"
   ]
  }
 ],
 "metadata": {
  "kernelspec": {
   "display_name": "self-driving-car",
   "language": "python",
   "name": "python3"
  },
  "language_info": {
   "codemirror_mode": {
    "name": "ipython",
    "version": 3
   },
   "file_extension": ".py",
   "mimetype": "text/x-python",
   "name": "python",
   "nbconvert_exporter": "python",
   "pygments_lexer": "ipython3",
   "version": "3.11.3"
  },
  "orig_nbformat": 4
 },
 "nbformat": 4,
 "nbformat_minor": 2
}
